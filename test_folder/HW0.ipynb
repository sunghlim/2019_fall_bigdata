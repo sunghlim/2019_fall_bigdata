{
 "cells": [
  {
   "cell_type": "code",
   "execution_count": null,
   "metadata": {},
   "outputs": [],
   "source": [
    "# CIS 545"
   ]
  },
  {
   "cell_type": "code",
   "execution_count": null,
   "metadata": {},
   "outputs": [],
   "source": []
  },
  {
   "cell_type": "markdown",
   "metadata": {
    "deletable": false,
    "editable": false,
    "nbgrader": {
     "checksum": "22bb71f9c692ead7fced7d0452d539cc",
     "grade": false,
     "grade_id": "cell-464e5ad138ebeaa8",
     "locked": true,
     "schema_version": 1,
     "solution": false
    }
   },
   "source": [
    "# CIS 545 Homework 0\n",
    "\n",
    "## 2.1 A Simple Spark Program\n",
    "\n",
    "Click on the “Run” button for the next two cells or type `[Shift]-[Enter]`.  \n",
    "Now wait a few moments.  You should ultimately get an array of 5 numbers and no error messages."
   ]
  },
  {
   "cell_type": "code",
   "execution_count": 2,
   "metadata": {},
   "outputs": [
    {
     "ename": "ModuleNotFoundError",
     "evalue": "No module named 'pyspark'",
     "output_type": "error",
     "traceback": [
      "\u001b[1;31m---------------------------------------------------------------------------\u001b[0m",
      "\u001b[1;31mModuleNotFoundError\u001b[0m                       Traceback (most recent call last)",
      "\u001b[1;32m<ipython-input-2-37b8b762dcb2>\u001b[0m in \u001b[0;36m<module>\u001b[1;34m\u001b[0m\n\u001b[1;32m----> 1\u001b[1;33m \u001b[1;32mimport\u001b[0m \u001b[0mpyspark\u001b[0m\u001b[1;33m\u001b[0m\u001b[0m\n\u001b[0m\u001b[0;32m      2\u001b[0m \u001b[0msc\u001b[0m \u001b[1;33m=\u001b[0m \u001b[0mpyspark\u001b[0m\u001b[1;33m.\u001b[0m\u001b[0mSparkContext\u001b[0m\u001b[1;33m(\u001b[0m\u001b[1;34m'local[*]'\u001b[0m\u001b[1;33m)\u001b[0m\u001b[1;33m\u001b[0m\u001b[0m\n\u001b[0;32m      3\u001b[0m \u001b[0mrdd\u001b[0m \u001b[1;33m=\u001b[0m \u001b[0msc\u001b[0m\u001b[1;33m.\u001b[0m\u001b[0mparallelize\u001b[0m\u001b[1;33m(\u001b[0m\u001b[0mrange\u001b[0m\u001b[1;33m(\u001b[0m\u001b[1;36m1000\u001b[0m\u001b[1;33m)\u001b[0m\u001b[1;33m)\u001b[0m\u001b[1;33m\u001b[0m\u001b[0m\n\u001b[0;32m      4\u001b[0m \u001b[0mtake5\u001b[0m \u001b[1;33m=\u001b[0m \u001b[0mrdd\u001b[0m\u001b[1;33m.\u001b[0m\u001b[0mtakeSample\u001b[0m\u001b[1;33m(\u001b[0m\u001b[1;32mFalse\u001b[0m\u001b[1;33m,\u001b[0m \u001b[1;36m5\u001b[0m\u001b[1;33m,\u001b[0m \u001b[0mseed\u001b[0m\u001b[1;33m=\u001b[0m\u001b[1;36m314\u001b[0m\u001b[1;33m)\u001b[0m\u001b[1;33m\u001b[0m\u001b[0m\n",
      "\u001b[1;31mModuleNotFoundError\u001b[0m: No module named 'pyspark'"
     ]
    }
   ],
   "source": [
    "import pyspark\n",
    "sc = pyspark.SparkContext('local[*]')\n",
    "rdd = sc.parallelize(range(1000))\n",
    "take5 = rdd.takeSample(False, 5, seed=314)"
   ]
  },
  {
   "cell_type": "code",
   "execution_count": null,
   "metadata": {
    "deletable": false,
    "editable": false,
    "nbgrader": {
     "checksum": "70f21337f169c8f086f9a35a200f4d63",
     "grade": true,
     "grade_id": "cell-5ec71508d8005981",
     "locked": true,
     "points": 5,
     "schema_version": 1,
     "solution": false
    }
   },
   "outputs": [],
   "source": [
    "# Test cell-5ec71508d8005981: Please do not delete, modify, or move this cell.\n",
    "\n",
    "display(take5)\n"
   ]
  },
  {
   "cell_type": "markdown",
   "metadata": {
    "deletable": false,
    "editable": false,
    "nbgrader": {
     "checksum": "5c69a53e367a985c9e95bef49033dcc4",
     "grade": false,
     "grade_id": "cell-d0c7dc144348d4aa",
     "locked": true,
     "schema_version": 1,
     "solution": false
    }
   },
   "source": [
    "## 2.2 Something a Little More Fun\n",
    "\n",
    "Edit the cell below to produce a figure which is modified in the following ways:  \n",
    "\n",
    "1. The  text (which says “CIS 545 student”) should be your Pennkey (eniac login ID).\n",
    "2. The number of values sampled should be 150, with the corresponding change to the figure title.\n",
    "3. The x-axis should be labeled “Sample number”.\n",
    "\n",
    "You may run the cells repeatedly to check your work. In grading, we run all of your cells in order, so before submitting your homework, it is a good idea to \"Restart & Run All\"  from the Kernel menu and make sure there are no errors."
   ]
  },
  {
   "cell_type": "code",
   "execution_count": null,
   "metadata": {},
   "outputs": [],
   "source": [
    "# We’ll be using Matplotlib to plot a visualization\n",
    "%matplotlib inline\n",
    "\n",
    "import matplotlib.pyplot as plt\n",
    "import numpy as np\n",
    "\n",
    "# Sample 100 values from the RDD\n",
    "y = np.array(rdd.takeSample(False, 100, 1))\n",
    "# Create an array with the indices\n",
    "x = np.array(range(len(y)))\n",
    "\n",
    "# Create a plot with a caption, X and Y legends, etc\n",
    "x_label = 'Sample no'\n",
    "y_label = 'Value'\n",
    "student = 'CIS 545 student'\n",
    "\n",
    "plt.title(str(len(y)) + ' random samples from the RDD')\n",
    "plt.xlabel(x_label)\n",
    "plt.ylabel(y_label)\n",
    "plt.figtext(0.995, 0.01, student, ha='right', va='bottom')\n",
    "# Scatter plot that fits within the box\n",
    "plt.scatter(x, y)\n",
    "plt.tight_layout()\n",
    "\n",
    "# Now fit a trend line to the data and plot it over the scatter plot\n",
    "m, c = np.polyfit(x, y, 1)\n",
    "plt.plot(x, m*x + c)\n",
    "\n",
    "# Save the SVG\n",
    "plt.savefig('hw0.svg')"
   ]
  },
  {
   "cell_type": "code",
   "execution_count": null,
   "metadata": {
    "deletable": false,
    "editable": false,
    "nbgrader": {
     "checksum": "bdd3a6afc13810901add887b73e0d3f5",
     "grade": true,
     "grade_id": "cell-2dba1b73bf06f646",
     "locked": true,
     "points": 5,
     "schema_version": 1,
     "solution": false
    }
   },
   "outputs": [],
   "source": [
    "# Test cell-2dba1b73bf06f646: Please do not delete, modify, or move this cell.\n",
    "\n",
    "print(\"Your PennKey is:\", student)"
   ]
  },
  {
   "cell_type": "code",
   "execution_count": null,
   "metadata": {
    "deletable": false,
    "editable": false,
    "nbgrader": {
     "checksum": "2ebb3ea3836d70d550c3eb9086cdf29f",
     "grade": true,
     "grade_id": "cell-0364f2eb1734d499",
     "locked": true,
     "points": 5,
     "schema_version": 1,
     "solution": false
    }
   },
   "outputs": [],
   "source": [
    "# Test cell-0364f2eb1734d499: Please do not delete, modify, or move this cell.\n",
    "\n",
    "print(\"You have sampled\", len(y), \"points.\")"
   ]
  },
  {
   "cell_type": "code",
   "execution_count": null,
   "metadata": {
    "deletable": false,
    "editable": false,
    "nbgrader": {
     "checksum": "fd8b8f7a889da7c9de31db8e0bcfde0e",
     "grade": true,
     "grade_id": "cell-3b74291b3554f97a",
     "locked": true,
     "points": 5,
     "schema_version": 1,
     "solution": false
    }
   },
   "outputs": [],
   "source": [
    "# Test cell-3b74291b3554f97a: Please do not delete, modify, or move this cell.\n",
    "\n",
    "print(\"The label on the x-axis says:\", x_label)"
   ]
  }
 ],
 "metadata": {
  "kernelspec": {
   "display_name": "Python 3",
   "language": "python",
   "name": "python3"
  },
  "language_info": {
   "codemirror_mode": {
    "name": "ipython",
    "version": 3
   },
   "file_extension": ".py",
   "mimetype": "text/x-python",
   "name": "python",
   "nbconvert_exporter": "python",
   "pygments_lexer": "ipython3",
   "version": "3.6.4"
  }
 },
 "nbformat": 4,
 "nbformat_minor": 2
}
